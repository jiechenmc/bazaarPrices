{
 "cells": [
  {
   "cell_type": "code",
   "execution_count": 1,
   "metadata": {},
   "outputs": [],
   "source": [
    "import asyncio"
   ]
  },
  {
   "cell_type": "code",
   "execution_count": 5,
   "metadata": {},
   "outputs": [],
   "source": [
    "async def find_divisibles(inrange, div_by):\n",
    "    print(f\"finding nums in range {inrange} divisible by {div_by}\")\n",
    "    located = []\n",
    "    for i in range(inrange):\n",
    "        if i % div_by == 0:\n",
    "            located.append(i)\n",
    "    print(f\"Done w/ nums in range {inrange} divisible by {div_by}\")\n",
    "    return located"
   ]
  },
  {
   "cell_type": "code",
   "execution_count": 6,
   "metadata": {},
   "outputs": [],
   "source": [
    "async def main():\n",
    "    divs1 = find_divisibles(500_000, 34113)\n",
    "    divs2 = find_divisibles(100052, 3210)\n",
    "    divs3 = find_divisibles(500, 3)"
   ]
  },
  {
   "cell_type": "code",
   "execution_count": 9,
   "metadata": {
    "scrolled": true
   },
   "outputs": [],
   "source": [
    "loop = asyncio.get_event_loop()\n",
    "asyncio.set_event_loop(loop)"
   ]
  },
  {
   "cell_type": "code",
   "execution_count": null,
   "metadata": {},
   "outputs": [],
   "source": []
  }
 ],
 "metadata": {
  "kernelspec": {
   "display_name": "Python 3",
   "language": "python",
   "name": "python3"
  },
  "language_info": {
   "codemirror_mode": {
    "name": "ipython",
    "version": 3
   },
   "file_extension": ".py",
   "mimetype": "text/x-python",
   "name": "python",
   "nbconvert_exporter": "python",
   "pygments_lexer": "ipython3",
   "version": "3.8.3"
  }
 },
 "nbformat": 4,
 "nbformat_minor": 4
}
