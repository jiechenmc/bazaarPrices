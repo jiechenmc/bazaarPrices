{
 "cells": [
  {
   "cell_type": "code",
   "execution_count": 1,
   "metadata": {},
   "outputs": [],
   "source": [
    "import numpy as np "
   ]
  },
  {
   "cell_type": "code",
   "execution_count": 2,
   "metadata": {},
   "outputs": [],
   "source": [
    "np.random.seed(0)"
   ]
  },
  {
   "cell_type": "code",
   "execution_count": 3,
   "metadata": {},
   "outputs": [
    {
     "output_type": "execute_result",
     "data": {
      "text/plain": "(array([[5, 0, 3],\n        [3, 7, 9],\n        [3, 5, 2],\n        [4, 7, 6],\n        [8, 8, 1]]),\n array([[6, 7, 7],\n        [8, 1, 5],\n        [9, 8, 9],\n        [4, 3, 0],\n        [3, 5, 0]]))"
     },
     "metadata": {},
     "execution_count": 3
    }
   ],
   "source": [
    "a1 = np.random.randint(10, size=(5, 3))\n",
    "a2 = np.random.randint(10, size=(5, 3))\n",
    "a1, a2"
   ]
  },
  {
   "cell_type": "code",
   "execution_count": 7,
   "metadata": {},
   "outputs": [
    {
     "output_type": "execute_result",
     "data": {
      "text/plain": "array([[30,  0, 21],\n       [24,  7, 45],\n       [27, 40, 18],\n       [16, 21,  0],\n       [24, 40,  0]])"
     },
     "metadata": {},
     "execution_count": 7
    }
   ],
   "source": [
    "a1 * a2"
   ]
  },
  {
   "cell_type": "code",
   "execution_count": 9,
   "metadata": {},
   "outputs": [
    {
     "output_type": "execute_result",
     "data": {
      "text/plain": "array([[ 51,  55,  72,  20,  15],\n       [130,  76, 164,  33,  44],\n       [ 67,  39,  85,  27,  34],\n       [115,  69, 146,  37,  47],\n       [111,  77, 145,  56,  64]])"
     },
     "metadata": {},
     "execution_count": 9
    }
   ],
   "source": [
    "np.dot(a1, a2.T)"
   ]
  },
  {
   "cell_type": "code",
   "execution_count": null,
   "metadata": {},
   "outputs": [],
   "source": []
  }
 ],
 "metadata": {
  "language_info": {
   "codemirror_mode": {
    "name": "ipython",
    "version": 3
   },
   "file_extension": ".py",
   "mimetype": "text/x-python",
   "name": "python",
   "nbconvert_exporter": "python",
   "pygments_lexer": "ipython3",
   "version": 3
  },
  "orig_nbformat": 2,
  "kernelspec": {
   "name": "python_defaultSpec_1594871828480",
   "display_name": "Python 3.8.3 64-bit ('learnml': conda)"
  }
 },
 "nbformat": 4,
 "nbformat_minor": 2
}